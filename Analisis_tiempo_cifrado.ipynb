{
 "cells": [
  {
   "cell_type": "markdown",
   "metadata": {},
   "source": [
    "# Análisis de tiempos en el cifrado y descifrado de imágenes\n",
    "___\n",
    "\n",
    "Como parte del proyecto de estudio e implementación de diferentes sistemas criptográficos, el presente notebook pretende comparar y analizar los diferentes cifrados aplicados a imágenes, en aspectos como el tiempo empleado al encriptar y desencriptar, así como la efectividad o debilidad de estos. Los criptosistemas usados en imágenes que implementamos y vamos a comparar son:\n",
    "\n",
    "- Hill\n",
    "- TDES: triple data encryption standard\n",
    "  - modo ECB\n",
    "  - modo CBC\n",
    "  - modo OFB\n",
    "  - modo CFB\n",
    "  - modo CTR\n",
    "- AES: advanced encryption standard\n",
    "  - modo ECB\n",
    "  - modo CBC\n",
    "  - modo OFB\n",
    "  - modo CFB\n",
    "  - modo CTR"
   ]
  },
  {
   "cell_type": "markdown",
   "metadata": {},
   "source": [
    "### Comparación de tiempos"
   ]
  },
  {
   "cell_type": "markdown",
   "metadata": {},
   "source": [
    "Para comparar los diferentes métodos de encriptado de imágenes realizamos pruebas de encriptado con diferentes tipos de imágenes variando en su tamaño (pequeña, mediana o grande) y cuanto ruido tiene la imagen (mucho, poco), para luego promediar estos resultados obteniendo la siguiente gráfica: \n",
    "\n",
    "<p align=\"center\"><img src=\"Proofandresultimages/grafica.png\" width=\"40%\"></p>\n",
    " \n",
    "Podemos notar que en el sistema TDES, en todos sus modos, se presenta un aumento significativo en el tiempo empleado para encriptar las imágenes, sin importar el ruido o tamaño a comparación de los sistemas AES y Hill"
   ]
  },
  {
   "cell_type": "markdown",
   "metadata": {},
   "source": [
    "##### TDES\n",
    "Viendo a detalle el comportamiento del sistema criptográfico TDES podemos notar que no hay diferencia significativa entre el tiempo empleado para encriptar en cada uno de sus modos, respecto al tamaño o ruido de las imágenes\n",
    "\n",
    "<p align=\"center\"><img src=\"Proofandresultimages/graficaTDES.png\" width=\"40%\"></p>"
   ]
  },
  {
   "cell_type": "markdown",
   "metadata": {},
   "source": [
    "##### AES\n",
    "Una observación inicial nos muestra que las funciones AES sobre imágenes con más variabilidad en sus pixeles (ruido) requieren de mayor tiempo para encriptar, la cantidad de muestras se consideran un buen primer acercamiento, sin embargo reconocemos el valor de un estudio más extensivo (mayor cantidad de imágenes analizadas)\n",
    "\n",
    "\n",
    "<p align=\"center\"><img src=\"Proofandresultimages/graficaAES.png\" width=\"40%\"></p>"
   ]
  },
  {
   "cell_type": "markdown",
   "metadata": {},
   "source": [
    "### Efectividad al encriptar"
   ]
  },
  {
   "cell_type": "markdown",
   "metadata": {},
   "source": [
    "Como fue mencionado anteriormente realizamos pruebas de encriptado con diferentes tipos de imágenes variando en su tamaño (pequeña, mediana o grande) y cuanto ruido tiene la imagen (mucho, poco) notando también que la efectividad del encriptado depende del sistema de encriptación como podemos ver a continuación:"
   ]
  },
  {
   "cell_type": "markdown",
   "metadata": {},
   "source": [
    "**IMÁGENES CON POCO RUIDO:**"
   ]
  },
  {
   "cell_type": "markdown",
   "metadata": {},
   "source": [
    "| | **Pequeña** | **Mediana** | **Grande** | \n",
    "|:----------:|:----------:|:----------:|:----------:|\n",
    "| **TDES ECB** | <p align=\"center\"><img src=\"Proofandresultimages/tdesECBlinuxresultSHORT.png\" width=\"300\"></p> | <p align=\"center\"><img src=\"Proofandresultimages/tdesECBlinuxresultMEDIUM.png\" width=\"350\"></p> | <p align=\"center\"><img src=\"Proofandresultimages/tdesECBlinuxresultBIG.png\" width=\"350\"></p> |\n",
    "| **TDES CBC** | <p align=\"center\"><img src=\"Proofandresultimages/tdesCBClinuxresultSHORT.png\" width=\"300\"></p> | <p align=\"center\"><img src=\"Proofandresultimages/tdesCBClinuxresultMEDIUM.png\" width=\"350\"></p> | <p align=\"center\"><img src=\"Proofandresultimages/tdesCBClinuxresultBIG.png\" width=\"350\"></p> |\n",
    "| **TDES OFB** | <p align=\"center\"><img src=\"Proofandresultimages/tdesOFBlinuxresultSHORT.png\" width=\"300\"></p> | <p align=\"center\"><img src=\"Proofandresultimages/tdesOFBlinuxresultMEDIUM.png\" width=\"350\"></p> | <p align=\"center\"><img src=\"Proofandresultimages/tdesOFBlinuxresultBIG.png\" width=\"350\"></p> |\n",
    "| **TDES CFB** | <p align=\"center\"><img src=\"Proofandresultimages/tdesCFBlinuxresultSHORT.png\" width=\"300\"></p> | <p align=\"center\"><img src=\"Proofandresultimages/tdesCFBlinuxresultMEDIUM.png\" width=\"350\"></p> | <p align=\"center\"><img src=\"Proofandresultimages/tdesCFBlinuxresultBIG.png\" width=\"350\"></p> |\n",
    "| **TDES CTR** | <p align=\"center\"><img src=\"Proofandresultimages/tdesCTRlinuxresultSHORT.png\" width=\"300\"></p> | <p align=\"center\"><img src=\"Proofandresultimages/tdesCTRlinuxresultMEDIUM.png\" width=\"350\"></p> | <p align=\"center\"><img src=\"Proofandresultimages/tdesCTRlinuxresultBIG.png\" width=\"350\"></p> |\n",
    "| **AES ECB** | <p align=\"center\"><img src=\"Proofandresultimages/aesECBlinuxresultSHORT.png\" width=\"300\"></p> | <p align=\"center\"><img src=\"Proofandresultimages/aesECBlinuxresultMEDIUM.png\" width=\"350\"></p> | <p align=\"center\"><img src=\"Proofandresultimages/aesECBlinuxresultBIG.png\" width=\"350\"></p> |\n",
    "| **AES CBC** | <p align=\"center\"><img src=\"Proofandresultimages/aesCBClinuxresultSHORT.png\" width=\"300\"></p> | <p align=\"center\"><img src=\"Proofandresultimages/aesCBClinuxresultMEDIUM.png\" width=\"350\"></p> | <p align=\"center\"><img src=\"Proofandresultimages/aesCBClinuxresultBIG.png\" width=\"350\"></p> |\n",
    "| **AES OFB** | <p align=\"center\"><img src=\"Proofandresultimages/aesOFBlinuxresultSHORT.png\" width=\"300\"></p> | <p align=\"center\"><img src=\"Proofandresultimages/aesOFBlinuxresultMEDIUM.png\" width=\"350\"></p> | <p align=\"center\"><img src=\"Proofandresultimages/aesOFBlinuxresultBIG.png\" width=\"350\"></p> |\n",
    "| **AES CFB** | <p align=\"center\"><img src=\"Proofandresultimages/aesCFBlinuxresultSHORT.png\" width=\"300\"></p> | <p align=\"center\"><img src=\"Proofandresultimages/aesCFBlinuxresultMEDIUM.png\" width=\"350\"></p> | <p align=\"center\"><img src=\"Proofandresultimages/aesCFBlinuxresultBIG.png\" width=\"350\"></p> |\n",
    "| **AES CTR** | <p align=\"center\"><img src=\"Proofandresultimages/aesCTRlinuxresultSHORT.png\" width=\"300\"></p> | <p align=\"center\"><img src=\"Proofandresultimages/aesCTRlinuxresultMEDIUM.png\" width=\"350\"></p> | <p align=\"center\"><img src=\"Proofandresultimages/aesCTRlinuxresultBIG.png\" width=\"350\"></p> |\n",
    "| **HILL** | <p align=\"center\"><img src=\"Proofandresultimages/HILLlinuxresultSHORT.png\" width=\"300\"></p> | <p align=\"center\"><img src=\"Proofandresultimages/HILLlinuxresultMEDIUM.png\" width=\"350\"></p> | <p align=\"center\"><img src=\"Proofandresultimages/HILLlinuxresultBIG.png\" width=\"350\"></p> |"
   ]
  },
  {
   "cell_type": "markdown",
   "metadata": {},
   "source": [
    "**IMÁGENES CON MUCHO RUIDO:**"
   ]
  },
  {
   "cell_type": "markdown",
   "metadata": {},
   "source": [
    "\n",
    "| | **Pequeña** | **Mediana** | **Grande** | \n",
    "|:----------:|:----------:|:----------:|:----------:|\n",
    "| **TDES ECB** | <p align=\"center\"><img src=\"Proofandresultimages/tdesECBresultSHORT.png\" width=\"300\"></p> | <p align=\"center\"><img src=\"Proofandresultimages/tdesECBresultMEDIUM.png\" width=\"350\"></p> | <p align=\"center\"><img src=\"Proofandresultimages/tdesECBresultBIG.png\" width=\"350\"></p> |\n",
    "| **TDES CBC** | <p align=\"center\"><img src=\"Proofandresultimages/tdesCBCresultSHORT.png\" width=\"300\"></p> | <p align=\"center\"><img src=\"Proofandresultimages/tdesCBCresultMEDIUM.png\" width=\"350\"></p> | <p align=\"center\"><img src=\"Proofandresultimages/tdesCBCresultBIG.png\" width=\"350\"></p> |\n",
    "| **TDES OFB** | <p align=\"center\"><img src=\"Proofandresultimages/tdesOFBresultSHORT.png\" width=\"300\"></p> | <p align=\"center\"><img src=\"Proofandresultimages/tdesOFBresultMEDIUM.png\" width=\"350\"></p> | <p align=\"center\"><img src=\"Proofandresultimages/tdesOFBresultBIG.png\" width=\"350\"></p> |\n",
    "| **TDES CFB** | <p align=\"center\"><img src=\"Proofandresultimages/tdesCFBresultSHORT.png\" width=\"300\"></p> | <p align=\"center\"><img src=\"Proofandresultimages/tdesCFBresultMEDIUM.png\" width=\"350\"></p> | <p align=\"center\"><img src=\"Proofandresultimages/tdesCFBresultBIG.png\" width=\"350\"></p> |\n",
    "| **TDES CTR** | <p align=\"center\"><img src=\"Proofandresultimages/tdesCTRresultSHORT.png\" width=\"300\"></p> | <p align=\"center\"><img src=\"Proofandresultimages/tdesCTRresultMEDIUM.png\" width=\"350\"></p> | <p align=\"center\"><img src=\"Proofandresultimages/tdesCTRresultBIG.png\" width=\"350\"></p> |\n",
    "| **AES ECB** | <p align=\"center\"><img src=\"Proofandresultimages/aesECBresultSHORT.png\" width=\"300\"></p> | <p align=\"center\"><img src=\"Proofandresultimages/aesECBresultMEDIUM.png\" width=\"350\"></p> | <p align=\"center\"><img src=\"Proofandresultimages/aesECBresultBIG.png\" width=\"350\"></p> |\n",
    "| **AES CBC** | <p align=\"center\"><img src=\"Proofandresultimages/aesCBCresultSHORT.png\" width=\"300\"></p> | <p align=\"center\"><img src=\"Proofandresultimages/aesCBCresultMEDIUM.png\" width=\"350\"></p> | <p align=\"center\"><img src=\"Proofandresultimages/aesCBCresultBIG.png\" width=\"350\"></p> |\n",
    "| **AES OFB** | <p align=\"center\"><img src=\"Proofandresultimages/aesOFBresultSHORT.png\" width=\"300\"></p> | <p align=\"center\"><img src=\"Proofandresultimages/aesOFBresultMEDIUM.png\" width=\"350\"></p> | <p align=\"center\"><img src=\"Proofandresultimages/aesOFBresultBIG.png\" width=\"350\"></p> |\n",
    "| **AES CFB** | <p align=\"center\"><img src=\"Proofandresultimages/aesCFBresultSHORT.png\" width=\"300\"></p> | <p align=\"center\"><img src=\"Proofandresultimages/aesCFBresultMEDIUM.png\" width=\"350\"></p> | <p align=\"center\"><img src=\"Proofandresultimages/aesCFBresultBIG.png\" width=\"350\"></p> |\n",
    "| **AES CTR** | <p align=\"center\"><img src=\"Proofandresultimages/aesCTRresultSHORT.png\" width=\"300\"></p> | <p align=\"center\"><img src=\"Proofandresultimages/aesCTRresultMEDIUM.png\" width=\"350\"></p> | <p align=\"center\"><img src=\"Proofandresultimages/aesCTRresultBIG.png\" width=\"350\"></p> |\n",
    "| **HILL** | <p align=\"center\"><img src=\"Proofandresultimages/HILLresultSHORT.png\" width=\"300\"></p> | <p align=\"center\"><img src=\"Proofandresultimages/HILLresultMEDIUM.png\" width=\"350\"></p> | <p align=\"center\"><img src=\"Proofandresultimages/HILLresultBIG.png\" width=\"350\"></p> |"
   ]
  }
 ],
 "metadata": {
  "kernelspec": {
   "display_name": "Python 3.10.8 64-bit (microsoft store)",
   "language": "python",
   "name": "python3"
  },
  "language_info": {
   "name": "python",
   "version": "3.10.8"
  },
  "orig_nbformat": 4,
  "vscode": {
   "interpreter": {
    "hash": "aa38ca2d4ac5334f8facb9127846041594939b57ea42b4afe5d7eb655aac64f1"
   }
  }
 },
 "nbformat": 4,
 "nbformat_minor": 2
}
